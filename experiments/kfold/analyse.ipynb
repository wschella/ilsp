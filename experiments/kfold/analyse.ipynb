{
 "cells": [
  {
   "cell_type": "code",
   "execution_count": 1,
   "id": "2413330a",
   "metadata": {},
   "outputs": [
    {
     "data": {
      "text/plain": [
       "'/home/wout/pp/code/experiments/kfold'"
      ]
     },
     "execution_count": 1,
     "metadata": {},
     "output_type": "execute_result"
    }
   ],
   "source": [
    "%pwd"
   ]
  },
  {
   "cell_type": "code",
   "execution_count": 2,
   "id": "f834c958",
   "metadata": {},
   "outputs": [
    {
     "data": {
      "text/plain": [
       "'/home/wout/pp/code'"
      ]
     },
     "execution_count": 2,
     "metadata": {},
     "output_type": "execute_result"
    }
   ],
   "source": [
    "# Move 2 directories up (until the root of the git repo),\n",
    "# but only if this has not been done before.\n",
    "if 'in_correct_dir' not in locals():\n",
    "    %cd -q ../..\n",
    "in_correct_dir = True\n",
    "%pwd"
   ]
  },
  {
   "cell_type": "code",
   "execution_count": 77,
   "id": "3ce03fa6",
   "metadata": {},
   "outputs": [],
   "source": [
    "import io\n",
    "\n",
    "import ipywidgets as W\n",
    "from PIL import Image\n",
    "from IPython.display import display\n",
    "\n",
    "import tensorflow as tf\n",
    "from tensorflow.keras import Model\n",
    "from tensorflow import keras\n",
    "from tensorflow.keras.preprocessing.image import array_to_img as KerasImg\n",
    "\n",
    "import experiment as exp\n",
    "\n",
    "import shared.util.dataset_extra as ds_extra"
   ]
  },
  {
   "cell_type": "code",
   "execution_count": 4,
   "id": "64699a68",
   "metadata": {},
   "outputs": [],
   "source": []
  },
  {
   "cell_type": "code",
   "execution_count": 84,
   "id": "fdfb3692",
   "metadata": {},
   "outputs": [
    {
     "name": "stdout",
     "output_type": "stream",
     "text": [
      "Using model checkpoint assets/models/kfold/mnist_assessor/ckpt-15\n"
     ]
    }
   ],
   "source": [
    "# Load the assessor model and corresponding assessor dataset\n",
    "flags = exp.Flags(dataset=\"mnist\")\n",
    "config = exp.CONFIG[flags.dataset]\n",
    "ass_ds = tf.data.experimental.load(exp.CHECKPOINT_DIR_DATASET(flags.dataset))\n",
    "assessor, _, _ = exp.try_restore_model(config.assessor(), exp.CHECKPOINT_DIR_ASSESSOR(flags.dataset))"
   ]
  },
  {
   "cell_type": "code",
   "execution_count": null,
   "id": "049cf766",
   "metadata": {},
   "outputs": [],
   "source": []
  },
  {
   "cell_type": "code",
   "execution_count": null,
   "id": "de882b4c",
   "metadata": {},
   "outputs": [],
   "source": []
  },
  {
   "cell_type": "code",
   "execution_count": 64,
   "id": "6202fc77",
   "metadata": {},
   "outputs": [],
   "source": [
    "def PIL_to_bytes(img):\n",
    "    # https://stackoverflow.com/questions/33101935/convert-pil-image-to-byte-array\n",
    "    img_bytes = io.BytesIO()\n",
    "    img.save(img_bytes, format='png')\n",
    "    return img_bytes.getvalue()"
   ]
  },
  {
   "cell_type": "code",
   "execution_count": 94,
   "id": "af1beb87",
   "metadata": {},
   "outputs": [
    {
     "data": {
      "application/vnd.jupyter.widget-view+json": {
       "model_id": "32446ed4c96a4fa9a350d0f70ac4a7a6",
       "version_major": 2,
       "version_minor": 0
      },
      "text/plain": [
       "HBox(children=(Image(value=b'\\x89PNG\\r\\n\\x1a\\n\\x00\\x00\\x00\\rIHDR\\x00\\x00\\x00d\\x00\\x00\\x00d\\x08\\x00\\x00\\x00\\x00…"
      ]
     },
     "metadata": {},
     "output_type": "display_data"
    }
   ],
   "source": [
    "def Instance(inst, model: Model):\n",
    "    \"\"\"\n",
    "    Accept a FeatureDict TF Dataset instance, and return a widget that renders it.\n",
    "    { \"image\": img, \"label\": ..., \"prediction\": ..., \"loss\": ... }\n",
    "    \"\"\"\n",
    "    x = inst['image']\n",
    "    base_loss_act = inst['loss']\n",
    "    base_loss_pred = model(x.reshape((1) + x.shape))\n",
    "    ass_loss = keras.losses.mean_squared_error(base_loss_act, base_loss_pred)\n",
    "    \n",
    "    return W.HBox([\n",
    "        W.Image(value=PIL_to_bytes(KerasImg(inst[\"image\"]).resize((100, 100)))),\n",
    "        W.VBox([\n",
    "            W.Label(value=f\"Index: {inst['index']}\"),\n",
    "            W.Label(value=f\"Label (actual): {inst['label']}\"),\n",
    "            W.Label(value=f\"Label (predic): {inst['prediction']}\"),\n",
    "            W.Label(value=f\"Base Loss (actual): {base_loss_act}\"),\n",
    "            W.Label(value=f\"Base Loss (predic): {base_loss_pred}\"),\n",
    "            W.Label(value=f\"Assessor Loss: {ass_loss}\")\n",
    "        ])\n",
    "    ])\n",
    "\n",
    "# Wtf is instance 3240?\n",
    "inst = ds_extra.peek(\n",
    "#     ass_ds.skip(6)\n",
    "    ass_ds.filter(lambda inst: inst['loss'] > 0.0).skip(100)\n",
    ")\n",
    "display(Instance(inst, assessor))"
   ]
  },
  {
   "cell_type": "code",
   "execution_count": 8,
   "id": "0ade261c",
   "metadata": {},
   "outputs": [],
   "source": [
    "w.value = 10"
   ]
  },
  {
   "cell_type": "code",
   "execution_count": null,
   "id": "fa478a83",
   "metadata": {},
   "outputs": [],
   "source": []
  }
 ],
 "metadata": {
  "kernelspec": {
   "display_name": "Python 3 (ipykernel)",
   "language": "python",
   "name": "python3"
  },
  "language_info": {
   "codemirror_mode": {
    "name": "ipython",
    "version": 3
   },
   "file_extension": ".py",
   "mimetype": "text/x-python",
   "name": "python",
   "nbconvert_exporter": "python",
   "pygments_lexer": "ipython3",
   "version": "3.9.6"
  }
 },
 "nbformat": 4,
 "nbformat_minor": 5
}
