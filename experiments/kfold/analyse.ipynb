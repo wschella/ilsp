{
 "cells": [
  {
   "cell_type": "code",
   "execution_count": 1,
   "id": "8c398839-7122-49a4-9175-ce0aef585413",
   "metadata": {},
   "outputs": [
    {
     "data": {
      "text/plain": [
       "'/media/wout/Data/PhD/pp/code/experiments/kfold'"
      ]
     },
     "execution_count": 1,
     "metadata": {},
     "output_type": "execute_result"
    }
   ],
   "source": [
    "%pwd"
   ]
  },
  {
   "cell_type": "code",
   "execution_count": 2,
   "id": "c0cc8e10-dbd1-4f6d-853e-341c7df04a28",
   "metadata": {},
   "outputs": [
    {
     "name": "stdout",
     "output_type": "stream",
     "text": [
      "/media/wout/Data/PhD/pp/code\n"
     ]
    }
   ],
   "source": [
    "%cd ../.."
   ]
  },
  {
   "cell_type": "code",
   "execution_count": 77,
   "id": "32e785bf-9869-4fbf-a792-3292e45b23d0",
   "metadata": {},
   "outputs": [],
   "source": [
    "import tensorflow as tf\n",
    "import io\n",
    "from PIL import Image\n",
    "import ipywidgets as W\n",
    "from IPython.display import display\n",
    "from tensorflow.keras import Model\n",
    "from tensorflow import keras\n",
    "\n",
    "import experiment as exp\n",
    "\n",
    "import shared.util.dataset_extra as ds_extra\n",
    "from tensorflow.keras.preprocessing.image import array_to_img as KerasImg"
   ]
  },
  {
   "cell_type": "code",
   "execution_count": 4,
   "id": "7f70eea0-28cf-4bda-b6b8-6c447c4cc256",
   "metadata": {},
   "outputs": [],
   "source": []
  },
  {
   "cell_type": "code",
   "execution_count": 84,
   "id": "1e8fb25f-766a-49f2-96b1-4f91c67e90f6",
   "metadata": {},
   "outputs": [
    {
     "name": "stdout",
     "output_type": "stream",
     "text": [
      "Using model checkpoint assets/models/kfold/mnist_assessor/ckpt-15\n"
     ]
    }
   ],
   "source": [
    "flags = exp.Flags(dataset=\"mnist\")\n",
    "config = exp.CONFIG[flags.dataset]\n",
    "ass_ds = tf.data.experimental.load(exp.CHECKPOINT_DIR_DATASET(flags.dataset))\n",
    "assessor, _, _ = exp.try_restore_model(config.assessor(), exp.CHECKPOINT_DIR_ASSESSOR(flags.dataset))"
   ]
  },
  {
   "cell_type": "code",
   "execution_count": null,
   "id": "bfbf8dc5-ac8d-475e-96b7-f46af2282717",
   "metadata": {},
   "outputs": [],
   "source": []
  },
  {
   "cell_type": "code",
   "execution_count": null,
   "id": "94a635b9-6187-473f-be5b-1bca8f40b523",
   "metadata": {},
   "outputs": [],
   "source": []
  },
  {
   "cell_type": "code",
   "execution_count": 64,
   "id": "d4ea4a02-1425-497e-9781-6165f03f59f5",
   "metadata": {},
   "outputs": [],
   "source": [
    "def PIL_to_bytes(img):\n",
    "    # https://stackoverflow.com/questions/33101935/convert-pil-image-to-byte-array\n",
    "    img_bytes = io.BytesIO()\n",
    "    img.save(img_bytes, format='png')\n",
    "    return img_bytes.getvalue()"
   ]
  },
  {
   "cell_type": "code",
   "execution_count": 94,
   "id": "eead553a-2682-442f-80fb-85c34dfd5c6e",
   "metadata": {},
   "outputs": [
    {
     "data": {
      "application/vnd.jupyter.widget-view+json": {
       "model_id": "32446ed4c96a4fa9a350d0f70ac4a7a6",
       "version_major": 2,
       "version_minor": 0
      },
      "text/plain": [
       "HBox(children=(Image(value=b'\\x89PNG\\r\\n\\x1a\\n\\x00\\x00\\x00\\rIHDR\\x00\\x00\\x00d\\x00\\x00\\x00d\\x08\\x00\\x00\\x00\\x00…"
      ]
     },
     "metadata": {},
     "output_type": "display_data"
    }
   ],
   "source": [
    "def Instance(inst, model: Model):\n",
    "    \"\"\"\n",
    "    Accept a FeatureDict TF Dataset instance, and return a widget that renders it.\n",
    "    { \"image\": img, \"label\": ..., \"prediction\": ..., \"loss\": ... }\n",
    "    \"\"\"\n",
    "    x = inst['image']\n",
    "    base_loss_act = inst['loss']\n",
    "    base_loss_pred = model(x.reshape((1) + x.shape))\n",
    "    ass_loss = keras.losses.mean_squared_error(base_loss_act, base_loss_pred)\n",
    "    \n",
    "    return W.HBox([\n",
    "        W.Image(value=PIL_to_bytes(KerasImg(inst[\"image\"]).resize((100, 100)))),\n",
    "        W.VBox([\n",
    "            W.Label(value=f\"Index: {inst['index']}\"),\n",
    "            W.Label(value=f\"Label (actual): {inst['label']}\"),\n",
    "            W.Label(value=f\"Label (predic): {inst['prediction']}\"),\n",
    "            W.Label(value=f\"Base Loss (actual): {base_loss_act}\"),\n",
    "            W.Label(value=f\"Base Loss (predic): {base_loss_pred}\"),\n",
    "            W.Label(value=f\"Assessor Loss: {ass_loss}\")\n",
    "        ])\n",
    "    ])\n",
    "\n",
    "# Wtf is instance 3240?\n",
    "inst = ds_extra.peek(\n",
    "#     ass_ds.skip(6)\n",
    "    ass_ds.filter(lambda inst: inst['loss'] > 0.0).skip(100)\n",
    ")\n",
    "display(Instance(inst, assessor))"
   ]
  },
  {
   "cell_type": "code",
   "execution_count": 8,
   "id": "5b0b1331-8391-46cc-bd91-eed8afc286b6",
   "metadata": {},
   "outputs": [],
   "source": [
    "w.value = 10"
   ]
  },
  {
   "cell_type": "code",
   "execution_count": null,
   "id": "ac165efe-861f-45f8-94d6-c69599e2d50d",
   "metadata": {},
   "outputs": [],
   "source": []
  }
 ],
 "metadata": {
  "kernelspec": {
   "display_name": "Python 3",
   "language": "python",
   "name": "python3"
  },
  "language_info": {
   "codemirror_mode": {
    "name": "ipython",
    "version": 3
   },
   "file_extension": ".py",
   "mimetype": "text/x-python",
   "name": "python",
   "nbconvert_exporter": "python",
   "pygments_lexer": "ipython3",
   "version": "3.9.6"
  }
 },
 "nbformat": 4,
 "nbformat_minor": 5
}
