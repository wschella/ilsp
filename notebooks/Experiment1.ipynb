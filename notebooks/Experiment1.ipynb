{
 "cells": [
  {
   "cell_type": "markdown",
   "id": "9d2286bb-59bf-4f44-aef1-92a3cd1007bb",
   "metadata": {},
   "source": [
    "# Experiment 1: Standard ML, LDA + kNN\n",
    "\n",
    "## To Do\n",
    "- [ ] Find nice dataset\n",
    "- [ ] Download & save dataset\n",
    "- [ ] Basic feature viz\n",
    "- [ ] Split out test and train\n",
    "- [ ] Train standard ML algorithm\n",
    "- [ ] Now do it with k-fold cross validation\n",
    "- [ ] Train assessor on cross validation tests\n",
    "- [ ] Test assessor"
   ]
  },
  {
   "cell_type": "code",
   "execution_count": 1,
   "id": "12b960d7-3335-4e50-a4fd-35f7e0e76fec",
   "metadata": {},
   "outputs": [],
   "source": [
    "import pandas as pd\n",
    "import numpy as np\n",
    "import sklearn as sk"
   ]
  },
  {
   "cell_type": "code",
   "execution_count": 2,
   "id": "9e29f3b8-cee6-497c-9424-d91c61cece6a",
   "metadata": {},
   "outputs": [],
   "source": [
    "data = pd.read_csv('data/isolet.csv')"
   ]
  },
  {
   "cell_type": "code",
   "execution_count": null,
   "id": "0e4eed5b-c2c1-42a9-a8a8-50ea032f2629",
   "metadata": {},
   "outputs": [],
   "source": []
  }
 ],
 "metadata": {
  "kernelspec": {
   "display_name": "Python [conda env:pp] *",
   "language": "python",
   "name": "conda-env-pp-py"
  },
  "language_info": {
   "codemirror_mode": {
    "name": "ipython",
    "version": 3
   },
   "file_extension": ".py",
   "mimetype": "text/x-python",
   "name": "python",
   "nbconvert_exporter": "python",
   "pygments_lexer": "ipython3",
   "version": "3.9.4"
  }
 },
 "nbformat": 4,
 "nbformat_minor": 5
}
