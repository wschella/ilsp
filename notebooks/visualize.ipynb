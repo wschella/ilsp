{
 "cells": [
  {
   "cell_type": "code",
   "execution_count": 1,
   "id": "342eb09f-bbd3-4624-83e5-1a48256497ba",
   "metadata": {},
   "outputs": [
    {
     "data": {
      "text/plain": [
       "'/home/wout/pp/code'"
      ]
     },
     "execution_count": 1,
     "metadata": {},
     "output_type": "execute_result"
    }
   ],
   "source": [
    "# Move up a directory (until the root of the git repo),\n",
    "# but only if this has not been done before.\n",
    "if 'in_correct_dir' not in locals():\n",
    "    %cd -q ..\n",
    "in_correct_dir = True\n",
    "%pwd"
   ]
  },
  {
   "cell_type": "code",
   "execution_count": 2,
   "id": "d8441147-dcb8-436a-9762-dee50e81b823",
   "metadata": {},
   "outputs": [],
   "source": [
    "import io\n",
    "from pathlib import Path\n",
    "\n",
    "import ipywidgets as W\n",
    "from PIL import Image\n",
    "from IPython.display import display\n",
    "\n",
    "import pandas as pd\n",
    "import numpy as np"
   ]
  },
  {
   "cell_type": "code",
   "execution_count": null,
   "id": "4d23e9dc-b3ab-475c-bb9e-dee86858eeee",
   "metadata": {},
   "outputs": [],
   "source": [
    "def PIL_to_bytes(img):\n",
    "    # https://stackoverflow.com/questions/33101935/convert-pil-image-to-byte-array\n",
    "    img_bytes = io.BytesIO()\n",
    "    img.save(img_bytes, format='png')\n",
    "    return img_bytes.getvalue()"
   ]
  },
  {
   "cell_type": "markdown",
   "id": "7ca11d95-383d-4874-8d22-27780e9e15f7",
   "metadata": {},
   "source": [
    "# OUDATED"
   ]
  },
  {
   "cell_type": "code",
   "execution_count": null,
   "id": "f3007166-8879-4f4b-b972-e2de0ee98fce",
   "metadata": {},
   "outputs": [],
   "source": [
    "def visualize_instance(inst, assessor: Model):\n",
    "    \"\"\"\n",
    "    Accept a FeatureDict TF Dataset instance, and return a widget that renders it.\n",
    "    { \"image\": img, \"label\": ..., \"prediction\": ..., \"loss\": ... }\n",
    "    \"\"\"\n",
    "    base = inst.to_frame().rename({'label': 'y_true'})\n",
    "    base['y_pred'] = np.argmax(base['prediction'], axis=1)\n",
    "    base['is_correct'] = base['y_pred'] == base['y_true']\n",
    "\n",
    "    x = inst['image']    \n",
    "    base_loss = inst['loss']\n",
    "    assessor_pred = assessor(x.reshape((1,) + x.shape))\n",
    "    \n",
    "    print(assessor_pred)\n",
    "    ass_loss = assessor.loss(is_correct, assessor_pred[0])\n",
    "    \n",
    "    return W.HBox([\n",
    "        W.Image(value=PIL_to_bytes(KerasImg(inst[\"image\"]).resize((100, 100)))),\n",
    "        W.VBox([\n",
    "              W.HTML(value=base.to_html())\n",
    "#             W.Label(value=f\"index: {inst['index']}\"),\n",
    "#             W.Label(value=f\"y_true (actual label): {inst['label']}\"),\n",
    "#             # + \" \\(correct)\" if is_correct else y_pred}\"\n",
    "#             W.Label(value=f\"y_pred (predic label): {y_pred}\"),\n",
    "#             W.Label(value=f\"loss: {base_loss}\"),\n",
    "#             W.Label(value=f'outputs {inst[\"prediction\"]}'),\n",
    " \n",
    "#             W.Label(value=f\"Assessor Prediction: {assessor_pred}\"),\n",
    "#             W.Label(value=f\"Assessor Loss: {ass_loss}\")\n",
    "        ])\n",
    "    ])\n",
    "\n",
    "# Wtf is instance 3240?\n",
    "# inst = ds_extra.peek(\n",
    "# #     ass_ds.skip(6)\n",
    "#     ass_ds.filter(lambda inst: inst['loss'] > 0.0).skip(100)\n",
    "# )\n",
    "instance = df.loc[3240]\n",
    "instance\n",
    "# display(Instance(instance, assessor))"
   ]
  }
 ],
 "metadata": {
  "kernelspec": {
   "display_name": "Python 3 (ipykernel)",
   "language": "python",
   "name": "python3"
  },
  "language_info": {
   "codemirror_mode": {
    "name": "ipython",
    "version": 3
   },
   "file_extension": ".py",
   "mimetype": "text/x-python",
   "name": "python",
   "nbconvert_exporter": "python",
   "pygments_lexer": "ipython3",
   "version": "3.9.7"
  }
 },
 "nbformat": 4,
 "nbformat_minor": 5
}
