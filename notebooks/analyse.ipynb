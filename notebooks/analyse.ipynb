{
 "cells": [
  {
   "cell_type": "code",
   "execution_count": 1,
   "id": "3eff076f-18cb-4e37-8431-cd2597b90f84",
   "metadata": {},
   "outputs": [
    {
     "data": {
      "text/plain": [
       "'/home/wout/pp/code'"
      ]
     },
     "execution_count": 1,
     "metadata": {},
     "output_type": "execute_result"
    }
   ],
   "source": [
    "%load_ext autoreload\n",
    "%autoreload 2\n",
    "\n",
    "# Move up a directory (until the root of the git repo),\n",
    "# but only if this has not been done before.\n",
    "if 'in_correct_dir' not in locals():\n",
    "    # type: ignore\n",
    "    %cd -q ..\n",
    "in_correct_dir = True\n",
    "%pwd"
   ]
  },
  {
   "cell_type": "code",
   "execution_count": 4,
   "id": "c8b7b93f-e8eb-45ed-83d7-fcd0dc3f71f1",
   "metadata": {},
   "outputs": [],
   "source": [
    "import pandas as pd\n",
    "import numpy as np\n",
    "import matplotlib.pyplot as plt"
   ]
  },
  {
   "cell_type": "code",
   "execution_count": null,
   "id": "5d61c41e-7c68-4d04-85d2-bb46e4ed061b",
   "metadata": {},
   "outputs": [],
   "source": []
  },
  {
   "cell_type": "code",
   "execution_count": 3,
   "id": "1a491562-0b29-42ac-ae0a-02c6f94cedc2",
   "metadata": {},
   "outputs": [
    {
     "data": {
      "text/plain": [
       "0      1\n",
       "1      6\n",
       "2      1\n",
       "3      2\n",
       "4      6\n",
       "      ..\n",
       "457    0\n",
       "458    5\n",
       "459    1\n",
       "460    2\n",
       "461    6\n",
       "Name: syst_prediction, Length: 462, dtype: int64"
      ]
     },
     "execution_count": 3,
     "metadata": {},
     "output_type": "execute_result"
    }
   ],
   "source": [
    "df = pd.read_csv(\"artifacts/results/segment_default_k5_wln20/results.csv\")\n",
    "# df = pd.read_csv(\"artifacts/results/cifar10_default_k5_unweight/results.csv\")\n",
    "# df = pd.read_csv(\"results.csv\")\n",
    "\n",
    "import assessors.report as rr\n",
    "\n",
    "df = rr.wrap.as_classification_with_binary_reward(df)\n",
    "\n",
    "df.loc[df.inst_target == 0]\n",
    "df.syst_prediction.map(lambda p: np.argmax(p, axis=1)[0])"
   ]
  },
  {
   "cell_type": "code",
   "execution_count": null,
   "id": "9a625eab-ca7c-4028-b599-1c3c5287d5e7",
   "metadata": {},
   "outputs": [],
   "source": []
  }
 ],
 "metadata": {
  "kernelspec": {
   "display_name": "Python 3 (ipykernel)",
   "language": "python",
   "name": "python3"
  },
  "language_info": {
   "codemirror_mode": {
    "name": "ipython",
    "version": 3
   },
   "file_extension": ".py",
   "mimetype": "text/x-python",
   "name": "python",
   "nbconvert_exporter": "python",
   "pygments_lexer": "ipython3",
   "version": "3.9.7"
  }
 },
 "nbformat": 4,
 "nbformat_minor": 5
}
